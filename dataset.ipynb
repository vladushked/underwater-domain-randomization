{
 "cells": [
  {
   "cell_type": "code",
   "execution_count": 8,
   "metadata": {},
   "outputs": [],
   "source": [
    "import cv2\n",
    "import glob\n",
    "import os\n",
    "import matplotlib.pyplot as plt\n",
    "import numpy as np\n",
    "from pathlib import Path\n",
    "import json\n",
    "import xml.etree.ElementTree as tree\n"
   ]
  },
  {
   "cell_type": "code",
   "execution_count": 3,
   "metadata": {},
   "outputs": [],
   "source": [
    "dataset_dir = \"/home/vladushked/Documents/data/sauvc_data\"\n",
    "out_dataset_dir = \"/home/vladushked/Documents/data/sauvc_data_yolo\"\n",
    "Path(out_dataset_dir).mkdir(parents=True, exist_ok=True)"
   ]
  },
  {
   "cell_type": "code",
   "execution_count": 4,
   "metadata": {},
   "outputs": [],
   "source": [
    "images = glob.glob(os.path.join(dataset_dir, \"*.jpg\"))\n",
    "xmls = glob.glob(os.path.join(dataset_dir, \"*.xml\"))\n",
    "images.sort()\n",
    "xmls.sort()"
   ]
  },
  {
   "cell_type": "code",
   "execution_count": 17,
   "metadata": {},
   "outputs": [
    {
     "name": "stdout",
     "output_type": "stream",
     "text": [
      "/home/vladushked/Documents/data/sauvc_data/hydro_7_512.jpg /home/vladushked/Documents/data/sauvc_data/hydro_7_512.xml\n"
     ]
    }
   ],
   "source": [
    "test_image = images[800]\n",
    "test_xml = xmls[800]\n",
    "print(test_image, test_xml)"
   ]
  },
  {
   "cell_type": "code",
   "execution_count": 22,
   "metadata": {},
   "outputs": [
    {
     "name": "stdout",
     "output_type": "stream",
     "text": [
      "<object>\n",
      "\t\t<name>mat</name>\n",
      "\t\t<pose>Unspecified</pose>\n",
      "\t\t<truncated>0</truncated>\n",
      "\t\t<difficult>0</difficult>\n",
      "\t\t<bndbox>\n",
      "\t\t\t<xmin>319</xmin>\n",
      "\t\t\t<ymin>336</ymin>\n",
      "\t\t\t<xmax>474</xmax>\n",
      "\t\t\t<ymax>420</ymax>\n",
      "\t\t</bndbox>\n",
      "\t</object>\n",
      "\t\n",
      "<object>\n",
      "\t\t<name>red_bowl</name>\n",
      "\t\t<pose>Unspecified</pose>\n",
      "\t\t<truncated>0</truncated>\n",
      "\t\t<difficult>0</difficult>\n",
      "\t\t<bndbox>\n",
      "\t\t\t<xmin>381</xmin>\n",
      "\t\t\t<ymin>364</ymin>\n",
      "\t\t\t<xmax>427</xmax>\n",
      "\t\t\t<ymax>396</ymax>\n",
      "\t\t</bndbox>\n",
      "\t</object>\n",
      "\n"
     ]
    }
   ],
   "source": [
    "base_xml = tree.parse(test_xml).getroot()\n",
    "for obj in base_xml.findall(\"object\"):\n",
    "    print(tree.tostring(obj, encoding='unicode', method='xml'))"
   ]
  },
  {
   "cell_type": "code",
   "execution_count": null,
   "metadata": {},
   "outputs": [],
   "source": []
  }
 ],
 "metadata": {
  "interpreter": {
   "hash": "1c43b035c4b9b3af2b8bcc3fd0eef2e1dae6ba45ebd4d37928a5d33d50c1e332"
  },
  "kernelspec": {
   "display_name": "Python 3.8.10 ('rl')",
   "language": "python",
   "name": "python3"
  },
  "language_info": {
   "codemirror_mode": {
    "name": "ipython",
    "version": 3
   },
   "file_extension": ".py",
   "mimetype": "text/x-python",
   "name": "python",
   "nbconvert_exporter": "python",
   "pygments_lexer": "ipython3",
   "version": "3.8.10"
  },
  "orig_nbformat": 4
 },
 "nbformat": 4,
 "nbformat_minor": 2
}

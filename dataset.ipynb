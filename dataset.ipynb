{
 "cells": [
  {
   "cell_type": "code",
   "execution_count": 1,
   "metadata": {},
   "outputs": [],
   "source": [
    "import cv2\n",
    "import glob\n",
    "import os\n",
    "import matplotlib.pyplot as plt\n",
    "import numpy as np\n",
    "from pathlib import Path\n",
    "import json\n",
    "import xml.etree.ElementTree as tree\n"
   ]
  },
  {
   "cell_type": "code",
   "execution_count": 2,
   "metadata": {},
   "outputs": [],
   "source": [
    "dataset_dir = \"/home/vladushked/Documents/data/sauvc_data\"\n",
    "out_dataset_dir = \"/home/vladushked/Documents/data/sauvc_data_yolo\"\n",
    "Path(out_dataset_dir).mkdir(parents=True, exist_ok=True)"
   ]
  },
  {
   "cell_type": "code",
   "execution_count": 14,
   "metadata": {},
   "outputs": [],
   "source": [
    "images = glob.glob(os.path.join(dataset_dir, \"*.jpg\"))\n",
    "xmls = glob.glob(os.path.join(dataset_dir, \"*.xml\"))\n",
    "images.sort()\n",
    "xmls.sort()\n",
    "labels = ['gate','red_flare','yellow_flare','mat','red_bowl','blue_bowl']\n"
   ]
  },
  {
   "cell_type": "code",
   "execution_count": 16,
   "metadata": {},
   "outputs": [
    {
     "name": "stdout",
     "output_type": "stream",
     "text": [
      "hydro_7_512 hydro_7_512.jpg hydro_7_512.txt /home/vladushked/Documents/data/sauvc_data/hydro_7_512.jpg /home/vladushked/Documents/data/sauvc_data/hydro_7_512.xml\n"
     ]
    }
   ],
   "source": [
    "test_image = images[800]\n",
    "test_image_name = os.path.split(test_image)[-1]\n",
    "test_name = test_image_name.split(\".\")[0]\n",
    "test_txt_name = test_name + \".txt\"\n",
    "test_xml = xmls[800]\n",
    "print(test_name, test_image_name, test_txt_name, test_image, test_xml)"
   ]
  },
  {
   "cell_type": "code",
   "execution_count": 24,
   "metadata": {},
   "outputs": [
    {
     "name": "stdout",
     "output_type": "stream",
     "text": [
      "3 0.61953125 0.7875 0.2421875 0.17500000000000004\n",
      "4 0.6312500000000001 0.7916666666666666 0.07187500000000002 0.06666666666666665\n"
     ]
    }
   ],
   "source": [
    "base_xml = tree.parse(test_xml).getroot()\n",
    "# print(tree.tostring(base_xml, encoding='unicode', method='xml'))\n",
    "img_width = int(base_xml.find(\"size\").find(\"width\").text)\n",
    "img_height = int(base_xml.find(\"size\").find(\"height\").text)\n",
    "# print(base_xml.find(\"name\").tag)\n",
    "objects = []\n",
    "with open(test_txt_name, \"w\") as output:\n",
    "    for obj in base_xml.findall(\"object\"):\n",
    "        label = obj.find(\"name\").text\n",
    "        idx = labels.index(label)\n",
    "        xmin = int(obj.find(\"bndbox\").find(\"xmin\").text) / img_width\n",
    "        ymin = int(obj.find(\"bndbox\").find(\"ymin\").text) / img_height\n",
    "        xmax = int(obj.find(\"bndbox\").find(\"xmax\").text) / img_width\n",
    "        ymax = int(obj.find(\"bndbox\").find(\"ymax\").text) / img_height\n",
    "        width = xmax - xmin\n",
    "        height = ymax - ymin\n",
    "        xcenter = xmin + width / 2\n",
    "        ycenter = ymin + height / 2\n",
    "\n",
    "        print(idx, xcenter, ycenter, width, height)\n",
    "        out = [str(idx), \"%.2f\" % xcenter, \"%.2f\" % ycenter, \"%.2f\" % width, \"%.2f\" % height]\n",
    "        out_str = \" \".join(out) + \"\\n\"\n",
    "        objects.append(out_str)\n",
    "        output.write(out_str)\n",
    "\n"
   ]
  },
  {
   "cell_type": "code",
   "execution_count": null,
   "metadata": {},
   "outputs": [],
   "source": []
  }
 ],
 "metadata": {
  "interpreter": {
   "hash": "1c43b035c4b9b3af2b8bcc3fd0eef2e1dae6ba45ebd4d37928a5d33d50c1e332"
  },
  "kernelspec": {
   "display_name": "Python 3.8.10 ('rl')",
   "language": "python",
   "name": "python3"
  },
  "language_info": {
   "codemirror_mode": {
    "name": "ipython",
    "version": 3
   },
   "file_extension": ".py",
   "mimetype": "text/x-python",
   "name": "python",
   "nbconvert_exporter": "python",
   "pygments_lexer": "ipython3",
   "version": "3.8.10"
  },
  "orig_nbformat": 4
 },
 "nbformat": 4,
 "nbformat_minor": 2
}
